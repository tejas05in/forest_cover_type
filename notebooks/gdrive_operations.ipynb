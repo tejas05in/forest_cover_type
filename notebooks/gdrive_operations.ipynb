{
 "cells": [
  {
   "cell_type": "code",
   "execution_count": 7,
   "id": "44d7a182",
   "metadata": {},
   "outputs": [],
   "source": [
    "import os\n",
    "from googleapiclient.discovery import build\n",
    "from googleapiclient.http import MediaFileUpload, MediaIoBaseDownload\n",
    "from google.oauth2.credentials import Credentials\n",
    "from google_auth_oauthlib.flow import InstalledAppFlow\n",
    "from google.auth.transport.requests import Request\n",
    "import io"
   ]
  },
  {
   "cell_type": "code",
   "execution_count": 8,
   "id": "08582271",
   "metadata": {},
   "outputs": [
    {
     "name": "stdout",
     "output_type": "stream",
     "text": [
      "File uploaded successfully. File ID: 15YqRiq5ZBL6lk63baOnFDEvYRTwVGCtr\n"
     ]
    }
   ],
   "source": [
    "# Full Drive access scope\n",
    "SCOPES = ['https://www.googleapis.com/auth/drive']\n",
    "\n",
    "# Authenticate and create the Drive service\n",
    "def authenticate():\n",
    "    creds = None\n",
    "    if os.path.exists('../token.json'):\n",
    "        creds = Credentials.from_authorized_user_file('../token.json', SCOPES)\n",
    "    if not creds or not creds.valid:\n",
    "        if creds and creds.expired and creds.refresh_token:\n",
    "            creds.refresh(Request())\n",
    "        else:\n",
    "            flow = InstalledAppFlow.from_client_secrets_file(\n",
    "                '../credentials.json', SCOPES)\n",
    "            creds = flow.run_local_server(port=0)\n",
    "        # Save the credentials for the next run\n",
    "        with open('../token.json', 'w') as token:\n",
    "            token.write(creds.to_json())\n",
    "    return build('drive', 'v3', credentials=creds)\n",
    "\n",
    "def upload_file(file_path, file_name):\n",
    "    service = authenticate()\n",
    "    file_metadata = {'name': file_name}\n",
    "    media = MediaFileUpload(file_path, resumable=True)\n",
    "    uploaded_file = service.files().create(\n",
    "        body=file_metadata, media_body=media, fields='id').execute()\n",
    "    print(f\"File uploaded successfully. File ID: {uploaded_file.get('id')}\")\n",
    "    return uploaded_file.get('id')\n",
    "\n",
    "# Example usage\n",
    "file_id = upload_file('covertype.csv', 'covertype.csv')"
   ]
  },
  {
   "cell_type": "code",
   "execution_count": 9,
   "id": "880dad3c",
   "metadata": {},
   "outputs": [
    {
     "name": "stdout",
     "output_type": "stream",
     "text": [
      "Download 100%.\n"
     ]
    }
   ],
   "source": [
    "def download_file(file_id, destination_path):\n",
    "    service = authenticate()\n",
    "    request = service.files().get_media(fileId=file_id)\n",
    "\n",
    "    with io.FileIO(destination_path, 'wb') as file:\n",
    "        downloader = MediaIoBaseDownload(file, request)\n",
    "        done = False\n",
    "        while not done:\n",
    "            status, done = downloader.next_chunk()\n",
    "            print(f\"Download {int(status.progress() * 100)}%.\")\n",
    "\n",
    "\n",
    "# Example usage: Download the uploaded file\n",
    "download_file(\"15YqRiq5ZBL6lk63baOnFDEvYRTwVGCtr\", 'downloaded_myfile.csv')"
   ]
  },
  {
   "cell_type": "code",
   "execution_count": null,
   "id": "80eb8b1b",
   "metadata": {},
   "outputs": [],
   "source": []
  }
 ],
 "metadata": {
  "kernelspec": {
   "display_name": "Python 3",
   "language": "python",
   "name": "python3"
  },
  "language_info": {
   "codemirror_mode": {
    "name": "ipython",
    "version": 3
   },
   "file_extension": ".py",
   "mimetype": "text/x-python",
   "name": "python",
   "nbconvert_exporter": "python",
   "pygments_lexer": "ipython3",
   "version": "3.11.0"
  }
 },
 "nbformat": 4,
 "nbformat_minor": 5
}
